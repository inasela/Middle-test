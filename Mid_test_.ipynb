{
  "nbformat": 4,
  "nbformat_minor": 0,
  "metadata": {
    "colab": {
      "provenance": []
    },
    "kernelspec": {
      "name": "python3",
      "display_name": "Python 3"
    },
    "language_info": {
      "name": "python"
    }
  },
  "cells": [
    {
      "cell_type": "markdown",
      "source": [
        "## Task 1"
      ],
      "metadata": {
        "id": "YI3WBvEm5uIW"
      }
    },
    {
      "cell_type": "markdown",
      "source": [
        "Create a function whose name is third_place that does the following:\n",
        "\n",
        "Given a list of test score and a list of participants name. The desired output would be the name of the participant who gets the 3rd best score. The rule of determining the order of the best score is as follows:\n",
        "\n",
        "Higher score is better\n",
        "In case of multiple participants having the same test score, they can occupy the same ranking value. For example, if 2 participants scored 100, then both of them occupy the first place.\n",
        "The first input of the function is the name list, and the second input to the function is the score list."
      ],
      "metadata": {
        "id": "A4r5ZQue5p5z"
      }
    },
    {
      "cell_type": "code",
      "source": [
        "def third_place(names, score):\n",
        "\n",
        "    data = list(zip(names, score))\n",
        "\n",
        "    data.sort(key=lambda x: x[1], reverse=True)\n",
        "\n",
        "    The_third_winner= data[2][0]\n",
        "\n",
        "    return f'The third winner: {The_third_winner}'\n",
        "\n",
        "names = ['Siti', 'Sheila', 'Ade', 'somad', 'ropi']\n",
        "score = [90, 100, 150, 200, 95]\n",
        "print(third_place(names, score))\n"
      ],
      "metadata": {
        "colab": {
          "base_uri": "https://localhost:8080/"
        },
        "id": "QbgW5da3KQly",
        "outputId": "86e6e22e-d635-4bd8-fd96-0d4cec0de8b0"
      },
      "execution_count": 6,
      "outputs": [
        {
          "output_type": "stream",
          "name": "stdout",
          "text": [
            "The third winner: Sheila\n"
          ]
        }
      ]
    },
    {
      "cell_type": "markdown",
      "source": [
        "Sheila merupaka pemenang yang ke 3"
      ],
      "metadata": {
        "id": "ru1RLjSnJFck"
      }
    }
  ]
}